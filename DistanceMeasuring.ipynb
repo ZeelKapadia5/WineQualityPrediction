{
 "cells": [
  {
   "cell_type": "markdown",
   "metadata": {},
   "source": [
    "DataSet Name:- WineQuality-white.csv\n",
    "\n",
    "DataSet Description Link:- https://archive.ics.uci.edu/ml/datasets/Wine+Quality\n",
    "\n",
    "DataSet Download Link:- https://archive.ics.uci.edu/ml/machine-learning-databases/wine-quality/\n",
    "\n",
    "DataSet Description:-\n",
    "\n",
    "Attribute Description:- Input variables (based on physicochemical tests): 1 - fixed acidity 2 - volatile acidity 3 - citric acid 4 - residual sugar 5 - chlorides 6 - free sulfur dioxide 7 - total sulfur dioxide 8 - density 9 - pH 10 - sulphates 11 - alcohol Output variable (based on sensory data): 12 - quality (score between 0 and 10)"
   ]
  },
  {
   "cell_type": "markdown",
   "metadata": {},
   "source": [
    "Aim:- Implement distance measuring techniques for two features of your dataset: (a) Euclidean (b)Minkowski (c) Manhattan (d) Jaccard (e) Cosine (f) Simple matching coefficient (g)hamming"
   ]
  },
  {
   "cell_type": "code",
   "execution_count": 3,
   "metadata": {
    "scrolled": true
   },
   "outputs": [
    {
     "data": {
      "text/html": [
       "<div>\n",
       "<style scoped>\n",
       "    .dataframe tbody tr th:only-of-type {\n",
       "        vertical-align: middle;\n",
       "    }\n",
       "\n",
       "    .dataframe tbody tr th {\n",
       "        vertical-align: top;\n",
       "    }\n",
       "\n",
       "    .dataframe thead th {\n",
       "        text-align: right;\n",
       "    }\n",
       "</style>\n",
       "<table border=\"1\" class=\"dataframe\">\n",
       "  <thead>\n",
       "    <tr style=\"text-align: right;\">\n",
       "      <th></th>\n",
       "      <th>fixed acidity</th>\n",
       "      <th>volatile acidity</th>\n",
       "      <th>citric acid</th>\n",
       "      <th>residual sugar</th>\n",
       "      <th>chlorides</th>\n",
       "      <th>free sulfur dioxide</th>\n",
       "      <th>total sulfur dioxide</th>\n",
       "      <th>density</th>\n",
       "      <th>pH</th>\n",
       "      <th>sulphates</th>\n",
       "      <th>alcohol</th>\n",
       "      <th>quality</th>\n",
       "    </tr>\n",
       "  </thead>\n",
       "  <tbody>\n",
       "    <tr>\n",
       "      <td>0</td>\n",
       "      <td>7.0</td>\n",
       "      <td>0.27</td>\n",
       "      <td>0.36</td>\n",
       "      <td>20.7</td>\n",
       "      <td>0.045</td>\n",
       "      <td>45.0</td>\n",
       "      <td>170.0</td>\n",
       "      <td>1.0010</td>\n",
       "      <td>3.00</td>\n",
       "      <td>0.45</td>\n",
       "      <td>8.8</td>\n",
       "      <td>6</td>\n",
       "    </tr>\n",
       "    <tr>\n",
       "      <td>1</td>\n",
       "      <td>6.3</td>\n",
       "      <td>0.30</td>\n",
       "      <td>0.34</td>\n",
       "      <td>1.6</td>\n",
       "      <td>0.049</td>\n",
       "      <td>14.0</td>\n",
       "      <td>132.0</td>\n",
       "      <td>0.9940</td>\n",
       "      <td>3.30</td>\n",
       "      <td>0.49</td>\n",
       "      <td>9.5</td>\n",
       "      <td>6</td>\n",
       "    </tr>\n",
       "    <tr>\n",
       "      <td>2</td>\n",
       "      <td>8.1</td>\n",
       "      <td>0.28</td>\n",
       "      <td>0.40</td>\n",
       "      <td>6.9</td>\n",
       "      <td>0.050</td>\n",
       "      <td>30.0</td>\n",
       "      <td>97.0</td>\n",
       "      <td>0.9951</td>\n",
       "      <td>3.26</td>\n",
       "      <td>0.44</td>\n",
       "      <td>10.1</td>\n",
       "      <td>6</td>\n",
       "    </tr>\n",
       "    <tr>\n",
       "      <td>3</td>\n",
       "      <td>7.2</td>\n",
       "      <td>0.23</td>\n",
       "      <td>0.32</td>\n",
       "      <td>8.5</td>\n",
       "      <td>0.058</td>\n",
       "      <td>47.0</td>\n",
       "      <td>186.0</td>\n",
       "      <td>0.9956</td>\n",
       "      <td>3.19</td>\n",
       "      <td>0.40</td>\n",
       "      <td>9.9</td>\n",
       "      <td>6</td>\n",
       "    </tr>\n",
       "    <tr>\n",
       "      <td>4</td>\n",
       "      <td>7.2</td>\n",
       "      <td>0.23</td>\n",
       "      <td>0.32</td>\n",
       "      <td>8.5</td>\n",
       "      <td>0.058</td>\n",
       "      <td>47.0</td>\n",
       "      <td>186.0</td>\n",
       "      <td>0.9956</td>\n",
       "      <td>3.19</td>\n",
       "      <td>0.40</td>\n",
       "      <td>9.9</td>\n",
       "      <td>6</td>\n",
       "    </tr>\n",
       "  </tbody>\n",
       "</table>\n",
       "</div>"
      ],
      "text/plain": [
       "   fixed acidity  volatile acidity  citric acid  residual sugar  chlorides  \\\n",
       "0            7.0              0.27         0.36            20.7      0.045   \n",
       "1            6.3              0.30         0.34             1.6      0.049   \n",
       "2            8.1              0.28         0.40             6.9      0.050   \n",
       "3            7.2              0.23         0.32             8.5      0.058   \n",
       "4            7.2              0.23         0.32             8.5      0.058   \n",
       "\n",
       "   free sulfur dioxide  total sulfur dioxide  density    pH  sulphates  \\\n",
       "0                 45.0                 170.0   1.0010  3.00       0.45   \n",
       "1                 14.0                 132.0   0.9940  3.30       0.49   \n",
       "2                 30.0                  97.0   0.9951  3.26       0.44   \n",
       "3                 47.0                 186.0   0.9956  3.19       0.40   \n",
       "4                 47.0                 186.0   0.9956  3.19       0.40   \n",
       "\n",
       "   alcohol  quality  \n",
       "0      8.8        6  \n",
       "1      9.5        6  \n",
       "2     10.1        6  \n",
       "3      9.9        6  \n",
       "4      9.9        6  "
      ]
     },
     "execution_count": 3,
     "metadata": {},
     "output_type": "execute_result"
    }
   ],
   "source": [
    "import pandas as pd\n",
    "import numpy as np\n",
    "from scipy.spatial import distance\n",
    "from sklearn.metrics.pairwise import cosine_similarity\n",
    "\n",
    "\n",
    "df = pd.read_csv('winequality.csv')\n",
    "\n",
    "df.head()\n",
    "\n",
    "#!pip install scipy"
   ]
  },
  {
   "cell_type": "code",
   "execution_count": 4,
   "metadata": {},
   "outputs": [],
   "source": [
    "#defining arrays\n",
    "arrFA = np.array(df['fixed acidity'])\n",
    "arrVA = np.array(df['volatile acidity'])\n",
    "arrCA = np.array(df['citric acid'])\n",
    "arrRS = np.array(df['residual sugar'])\n",
    "arrCH = np.array(df['chlorides'])\n",
    "arrFSD = np.array(df['free sulfur dioxide'])\n",
    "arrTSD = np.array(df['total sulfur dioxide'])\n",
    "arrDEN = np.array(df['density'])\n",
    "arrPH = np.array(df['pH'])\n",
    "arrSUL = np.array(df['sulphates'])\n",
    "arrAL = np.array(df['alcohol'])\n",
    "arrQUA = np.array(df['quality'])"
   ]
  },
  {
   "cell_type": "code",
   "execution_count": 5,
   "metadata": {},
   "outputs": [
    {
     "name": "stdout",
     "output_type": "stream",
     "text": [
      "***********Eulidean Distance*********\n",
      "\n",
      "Distance from fixed acidity to quality: 113.28858062488028\n",
      "Distance from Volatile acidity to quality: 397.04416029580386\n",
      "Distance from citric acid to quality: 393.0033950235036\n",
      "Distance from residual sugar to quality: 367.9735010839775\n",
      "Distance from free sulfur dioxide to quality: 2379.3674579602034\n",
      "Distance from total sulfur dioxide to quality: 9740.67634972028\n",
      "Distance from density to quality: 347.3867902768078\n",
      "Distance from ph to quality: 198.12981527271458\n",
      "Distance from sulphates to quality: 382.16035495587454\n",
      "Distance from alcohol to quality: 334.5058433633045\n"
     ]
    }
   ],
   "source": [
    "# euclidean distance\n",
    "print(\"***********Eulidean Distance*********\\n\")\n",
    "print(\"Distance from fixed acidity to quality: \"+\n",
    "str(distance.euclidean(arrFA,arrQUA))+\n",
    "      \"\\nDistance from Volatile acidity to quality: \"+\n",
    "      str(distance.euclidean(arrVA,arrQUA))+\n",
    "      \"\\nDistance from citric acid to quality: \"+\n",
    "str(distance.euclidean(arrCA,arrQUA))+\n",
    "      \"\\nDistance from residual sugar to quality: \"+\n",
    "      str(distance.euclidean(arrRS,arrQUA))+\n",
    "      \"\\nDistance from free sulfur dioxide to quality: \"+\n",
    "str(distance.euclidean(arrFSD,arrQUA))+\n",
    "      \"\\nDistance from total sulfur dioxide to quality: \"+\n",
    "      str(distance.euclidean(arrTSD,arrQUA))+\n",
    "      \"\\nDistance from density to quality: \"+\n",
    "str(distance.euclidean(arrDEN,arrQUA))+\n",
    "      \"\\nDistance from ph to quality: \"+\n",
    "      str(distance.euclidean(arrPH,arrQUA))+\n",
    "      \"\\nDistance from sulphates to quality: \"+\n",
    "str(distance.euclidean(arrSUL,arrQUA))+\n",
    "      \"\\nDistance from alcohol to quality: \"+\n",
    "      str(distance.euclidean(arrAL,arrQUA))\n",
    "     )"
   ]
  },
  {
   "cell_type": "code",
   "execution_count": 6,
   "metadata": {},
   "outputs": [
    {
     "name": "stdout",
     "output_type": "stream",
     "text": [
      "************* Minkowski Distance ***************\n",
      "\n",
      "Distance from fixed acidity to quality: 32.60969666353504\n",
      "Distance from Volatile acidity to quality: 97.55704634512287\n",
      "Distance from citric acid to quality: 96.55817267537287\n",
      "Distance from residual sugar to quality: 108.70098681802018\n",
      "Distance from free sulfur dioxide to quality: 658.552876746563\n",
      "Distance from total sulfur dioxide to quality: 2470.8469275121524\n",
      "Distance from density to quality: 85.61290840587668\n",
      "Distance from ph to quality: 50.21000091893141\n",
      "Distance from sulphates to quality: 93.93997816720534\n",
      "Distance from alcohol to quality: 83.46104546933545\n"
     ]
    }
   ],
   "source": [
    "print(\"************* Minkowski Distance ***************\\n\")\n",
    "print(\"Distance from fixed acidity to quality: \"+\n",
    "str(distance.minkowski(arrFA,arrQUA,p=3))+\n",
    "      \"\\nDistance from Volatile acidity to quality: \"+\n",
    "      str(distance.minkowski(arrVA,arrQUA,p=3))+\n",
    "      \"\\nDistance from citric acid to quality: \"+\n",
    "str(distance.minkowski(arrCA,arrQUA,p=3))+\n",
    "      \"\\nDistance from residual sugar to quality: \"+\n",
    "      str(distance.minkowski(arrRS,arrQUA,p=3))+\n",
    "      \"\\nDistance from free sulfur dioxide to quality: \"+\n",
    "str(distance.minkowski(arrFSD,arrQUA,p=3))+\n",
    "      \"\\nDistance from total sulfur dioxide to quality: \"+\n",
    "      str(distance.minkowski(arrTSD,arrQUA,p=3))+\n",
    "      \"\\nDistance from density to quality: \"+\n",
    "str(distance.minkowski(arrDEN,arrQUA,p=3))+\n",
    "      \"\\nDistance from ph to quality: \"+\n",
    "      str(distance.minkowski(arrPH,arrQUA,p=3))+\n",
    "      \"\\nDistance from sulphates to quality: \"+\n",
    "str(distance.minkowski(arrSUL,arrQUA,p=3))+\n",
    "      \"\\nDistance from alcohol to quality: \"+\n",
    "      str(distance.minkowski(arrAL,arrQUA,p=3))\n",
    "     )"
   ]
  },
  {
   "cell_type": "code",
   "execution_count": 7,
   "metadata": {},
   "outputs": [
    {
     "name": "stdout",
     "output_type": "stream",
     "text": [
      "************* Manhattan Distance ***************\n",
      "\n",
      "Distance from fixed acidity to quality: 6288.25\n",
      "Distance from Volatile acidity to quality: 27427.175000000003\n",
      "Distance from citric acid to quality: 27153.13\n",
      "Distance from residual sugar to quality: 21189.15\n",
      "Distance from free sulfur dioxide to quality: 144237.0\n",
      "Distance from total sulfur dioxide to quality: 648900.5\n",
      "Distance from density to quality: 23921.25391\n",
      "Distance from ph to quality: 13182.189999999999\n",
      "Distance from sulphates to quality: 26390.73\n",
      "Distance from alcohol to quality: 22708.879999978\n"
     ]
    }
   ],
   "source": [
    "print(\"************* Manhattan Distance ***************\\n\")\n",
    "print(\"Distance from fixed acidity to quality: \"+\n",
    "str(distance.cityblock(arrFA,arrQUA))+\n",
    "      \"\\nDistance from Volatile acidity to quality: \"+\n",
    "      str(distance.cityblock(arrVA,arrQUA))+\n",
    "      \"\\nDistance from citric acid to quality: \"+\n",
    "str(distance.cityblock(arrCA,arrQUA))+\n",
    "      \"\\nDistance from residual sugar to quality: \"+\n",
    "      str(distance.cityblock(arrRS,arrQUA))+\n",
    "      \"\\nDistance from free sulfur dioxide to quality: \"+\n",
    "str(distance.cityblock(arrFSD,arrQUA))+\n",
    "      \"\\nDistance from total sulfur dioxide to quality: \"+\n",
    "      str(distance.cityblock(arrTSD,arrQUA))+\n",
    "      \"\\nDistance from density to quality: \"+\n",
    "str(distance.cityblock(arrDEN,arrQUA))+\n",
    "      \"\\nDistance from ph to quality: \"+\n",
    "      str(distance.cityblock(arrPH,arrQUA))+\n",
    "      \"\\nDistance from sulphates to quality: \"+\n",
    "str(distance.cityblock(arrSUL,arrQUA))+\n",
    "      \"\\nDistance from alcohol to quality: \"+\n",
    "      str(distance.cityblock(arrAL,arrQUA))\n",
    "     )"
   ]
  },
  {
   "cell_type": "code",
   "execution_count": 8,
   "metadata": {},
   "outputs": [
    {
     "name": "stdout",
     "output_type": "stream",
     "text": [
      "************* Jaccard Distance ***************\n",
      "\n",
      "Distance from fixed acidity to quality: 0.972029399755002\n",
      "Distance from Volatile acidity to quality: 1.0\n",
      "Distance from citric acid to quality: 1.0\n",
      "Distance from residual sugar to quality: 0.995304205798285\n",
      "Distance from free sulfur dioxide to quality: 0.9959167006941608\n",
      "Distance from total sulfur dioxide to quality: 1.0\n",
      "Distance from density to quality: 1.0\n",
      "Distance from ph to quality: 1.0\n",
      "Distance from sulphates to quality: 1.0\n",
      "Distance from alcohol to quality: 1.0\n"
     ]
    }
   ],
   "source": [
    "print(\"************* Jaccard Distance ***************\\n\")\n",
    "print(\"Distance from fixed acidity to quality: \"+\n",
    "str(distance.jaccard(arrFA,arrQUA))+\n",
    "      \"\\nDistance from Volatile acidity to quality: \"+\n",
    "      str(distance.jaccard(arrVA,arrQUA))+\n",
    "      \"\\nDistance from citric acid to quality: \"+\n",
    "str(distance.jaccard(arrCA,arrQUA))+\n",
    "      \"\\nDistance from residual sugar to quality: \"+\n",
    "      str(distance.jaccard(arrRS,arrQUA))+\n",
    "      \"\\nDistance from free sulfur dioxide to quality: \"+\n",
    "str(distance.jaccard(arrFSD,arrQUA))+\n",
    "      \"\\nDistance from total sulfur dioxide to quality: \"+\n",
    "      str(distance.jaccard(arrTSD,arrQUA))+\n",
    "      \"\\nDistance from density to quality: \"+\n",
    "str(distance.jaccard(arrDEN,arrQUA))+\n",
    "      \"\\nDistance from ph to quality: \"+\n",
    "      str(distance.jaccard(arrPH,arrQUA))+\n",
    "      \"\\nDistance from sulphates to quality: \"+\n",
    "str(distance.jaccard(arrSUL,arrQUA))+\n",
    "      \"\\nDistance from alcohol to quality: \"+\n",
    "      str(distance.jaccard(arrAL,arrQUA))\n",
    "     )"
   ]
  },
  {
   "cell_type": "code",
   "execution_count": 2,
   "metadata": {},
   "outputs": [
    {
     "name": "stdout",
     "output_type": "stream",
     "text": [
      "*************Hamming Distance ***************\n",
      "\n"
     ]
    },
    {
     "ename": "NameError",
     "evalue": "name 'arrFA' is not defined",
     "output_type": "error",
     "traceback": [
      "\u001b[1;31m---------------------------------------------------------------------------\u001b[0m",
      "\u001b[1;31mNameError\u001b[0m                                 Traceback (most recent call last)",
      "\u001b[1;32m<ipython-input-2-5a9b05a230d2>\u001b[0m in \u001b[0;36m<module>\u001b[1;34m\u001b[0m\n\u001b[0;32m     18\u001b[0m       \u001b[1;34m\"\\nDistance from sulphates to quality: \"\u001b[0m\u001b[1;33m+\u001b[0m\u001b[1;33m\u001b[0m\u001b[1;33m\u001b[0m\u001b[0m\n\u001b[0;32m     19\u001b[0m \u001b[0mstr\u001b[0m\u001b[1;33m(\u001b[0m\u001b[0mdistance\u001b[0m\u001b[1;33m.\u001b[0m\u001b[0mhamming\u001b[0m\u001b[1;33m(\u001b[0m\u001b[0marrSUL\u001b[0m\u001b[1;33m,\u001b[0m\u001b[0marrQUA\u001b[0m\u001b[1;33m)\u001b[0m\u001b[1;33m)\u001b[0m\u001b[1;33m+\u001b[0m\u001b[1;33m\u001b[0m\u001b[1;33m\u001b[0m\u001b[0m\n\u001b[1;32m---> 20\u001b[1;33m       \u001b[1;34m\"\\nDistance from alcohol to quality: \"\u001b[0m\u001b[1;33m+\u001b[0m\u001b[1;33m\u001b[0m\u001b[1;33m\u001b[0m\u001b[0m\n\u001b[0m\u001b[0;32m     21\u001b[0m       \u001b[0mstr\u001b[0m\u001b[1;33m(\u001b[0m\u001b[0mdistance\u001b[0m\u001b[1;33m.\u001b[0m\u001b[0mhamming\u001b[0m\u001b[1;33m(\u001b[0m\u001b[0marrAL\u001b[0m\u001b[1;33m,\u001b[0m\u001b[0marrQUA\u001b[0m\u001b[1;33m)\u001b[0m\u001b[1;33m)\u001b[0m\u001b[1;33m\u001b[0m\u001b[1;33m\u001b[0m\u001b[0m\n\u001b[0;32m     22\u001b[0m      )\n",
      "\u001b[1;31mNameError\u001b[0m: name 'arrFA' is not defined"
     ]
    }
   ],
   "source": [
    "print(\"*************Hamming Distance ***************\\n\")\n",
    "print(\"Distance from fixed acidity to quality: \"+\n",
    "str(distance.hamming(arrFA,arrQUA))+\n",
    "      \"\\nDistance from Volatile acidity to quality: \"+\n",
    "      str(distance.hamming(arrVA,arrQUA))+\n",
    "      \"\\nDistance from citric acid to quality: \"+\n",
    "str(distance.hamming(arrCA,arrQUA))+\n",
    "      \"\\nDistance from residual sugar to quality: \"+\n",
    "      str(distance.hamming(arrRS,arrQUA))+\n",
    "      \"\\nDistance from free sulfur dioxide to quality: \"+\n",
    "str(distance.hamming(arrFSD,arrQUA))+\n",
    "      \"\\nDistance from total sulfur dioxide to quality: \"+\n",
    "      str(distance.hamming(arrTSD,arrQUA))+\n",
    "      \"\\nDistance from density to quality: \"+\n",
    "str(distance.hamming(arrDEN,arrQUA))+\n",
    "      \"\\nDistance from ph to quality: \"+\n",
    "      str(distance.hamming(arrPH,arrQUA))+\n",
    "      \"\\nDistance from sulphates to quality: \"+\n",
    "str(distance.hamming(arrSUL,arrQUA))+\n",
    "      \"\\nDistance from alcohol to quality: \"+\n",
    "      str(distance.hamming(arrAL,arrQUA))\n",
    "     )"
   ]
  },
  {
   "cell_type": "code",
   "execution_count": 27,
   "metadata": {},
   "outputs": [
    {
     "name": "stdout",
     "output_type": "stream",
     "text": [
      "*************Cosine Distance ***************\n",
      "\n",
      "Distance from fixed acidity to quality: 0.020635321994339595\n",
      "Distance from Volatile acidity to quality: 0.08015090462655694\n",
      "Distance from citric acid to quality: 0.07070011207714255\n",
      "Distance from residual sugar to quality: 0.23442792828245507\n",
      "Distance from free sulfur dioxide to quality: 0.10857678783241331\n",
      "Distance from total sulfur dioxide to quality: 0.062378101325087365\n",
      "Distance from density to quality: 0.011301285002584871\n",
      "Distance from ph to quality: 0.011565430168914204\n",
      "Distance from sulphates to quality: 0.03513197697102499\n",
      "Distance from alcohol to quality: 0.01031941337184239\n"
     ]
    }
   ],
   "source": [
    "print(\"*************Cosine Distance ***************\\n\")\n",
    "print(\"Distance from fixed acidity to quality: \"+\n",
    "str(distance.cosine(arrFA,arrQUA))+\n",
    "      \"\\nDistance from Volatile acidity to quality: \"+\n",
    "      str(distance.cosine(arrVA,arrQUA))+\n",
    "      \"\\nDistance from citric acid to quality: \"+\n",
    "str(distance.cosine(arrCA,arrQUA))+\n",
    "      \"\\nDistance from residual sugar to quality: \"+\n",
    "      str(distance.cosine(arrRS,arrQUA))+\n",
    "      \"\\nDistance from free sulfur dioxide to quality: \"+\n",
    "str(distance.cosine(arrFSD,arrQUA))+\n",
    "      \"\\nDistance from total sulfur dioxide to quality: \"+\n",
    "      str(distance.cosine(arrTSD,arrQUA))+\n",
    "      \"\\nDistance from density to quality: \"+\n",
    "str(distance.cosine(arrDEN,arrQUA))+\n",
    "      \"\\nDistance from ph to quality: \"+\n",
    "      str(distance.cosine(arrPH,arrQUA))+\n",
    "      \"\\nDistance from sulphates to quality: \"+\n",
    "str(distance.cosine(arrSUL,arrQUA))+\n",
    "      \"\\nDistance from alcohol to quality: \"+\n",
    "      str(distance.cosine(arrAL,arrQUA))\n",
    "     )"
   ]
  },
  {
   "cell_type": "code",
   "execution_count": 32,
   "metadata": {},
   "outputs": [
    {
     "name": "stdout",
     "output_type": "stream",
     "text": [
      "*************** Simple Matching Coefficient\n",
      "n01 1\n",
      "n10 2\n",
      "n11 2\n",
      "n00 3\n",
      "smc :  0.625\n"
     ]
    }
   ],
   "source": [
    "print(\"*************** Simple Matching Coefficient\")\n",
    "n00=0\n",
    "n10=0\n",
    "n01=0\n",
    "n11=0\n",
    "\n",
    "F1 = (0, 1, 1, 0, 1, 0, 1, 0)\n",
    "F2 = (1, 1, 0, 0, 1, 0, 0, 0)\n",
    "\n",
    "for i in range(len(F1)): \n",
    "    if(F1[i]==0 and F2[i]==0):\n",
    "        n00+=1\n",
    "    elif(F1[i]==1 and F2[i]==0):\n",
    "        n10+=1\n",
    "    elif(F1[i]==0 and F2[i]==1):\n",
    "        n01+=1\n",
    "    elif(F1[i]==1 and F2[i]==1):  \n",
    "        n11+=1\n",
    "print(\"n01\",n01)\n",
    "print(\"n10\",n10)\n",
    "print(\"n11\",n11)\n",
    "print(\"n00\",n00)\n",
    "\n",
    "smc = (n11+n00)/(n11+n00+n01+n10)\n",
    "print(\"smc : \",smc)"
   ]
  },
  {
   "cell_type": "code",
   "execution_count": null,
   "metadata": {},
   "outputs": [],
   "source": []
  }
 ],
 "metadata": {
  "kernelspec": {
   "display_name": "Python 3",
   "language": "python",
   "name": "python3"
  },
  "language_info": {
   "codemirror_mode": {
    "name": "ipython",
    "version": 3
   },
   "file_extension": ".py",
   "mimetype": "text/x-python",
   "name": "python",
   "nbconvert_exporter": "python",
   "pygments_lexer": "ipython3",
   "version": "3.7.4"
  }
 },
 "nbformat": 4,
 "nbformat_minor": 2
}
